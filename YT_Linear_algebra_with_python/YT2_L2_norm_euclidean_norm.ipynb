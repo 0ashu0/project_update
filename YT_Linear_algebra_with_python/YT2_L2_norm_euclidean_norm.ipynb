{
 "cells": [
  {
   "cell_type": "code",
   "execution_count": 2,
   "id": "a5a5b3f5-0729-45b4-a33f-c39b551d60a1",
   "metadata": {},
   "outputs": [],
   "source": [
    "import numpy as np"
   ]
  },
  {
   "cell_type": "code",
   "execution_count": 3,
   "id": "af4e5b98-cbbb-409c-8bc5-c56db5d82b7a",
   "metadata": {},
   "outputs": [],
   "source": [
    "v = np.array([3,4])"
   ]
  },
  {
   "cell_type": "code",
   "execution_count": 4,
   "id": "4c099f99-c999-4753-8bd2-d708a14a3904",
   "metadata": {},
   "outputs": [
    {
     "data": {
      "text/plain": [
       "5.0"
      ]
     },
     "execution_count": 4,
     "metadata": {},
     "output_type": "execute_result"
    }
   ],
   "source": [
    "np.linalg.norm(v)"
   ]
  },
  {
   "cell_type": "code",
   "execution_count": 5,
   "id": "0c74bd66-3130-4220-8dd1-e255d81f8736",
   "metadata": {},
   "outputs": [],
   "source": [
    "d = np.array([-3,2,1,-1,1])"
   ]
  },
  {
   "cell_type": "code",
   "execution_count": 6,
   "id": "d5580384-0852-4e78-94bd-af748e38f47c",
   "metadata": {},
   "outputs": [
    {
     "data": {
      "text/plain": [
       "4.0"
      ]
     },
     "execution_count": 6,
     "metadata": {},
     "output_type": "execute_result"
    }
   ],
   "source": [
    "np.linalg.norm(d)"
   ]
  },
  {
   "cell_type": "code",
   "execution_count": 7,
   "id": "aaaab1b2-8d88-46e7-9a88-1a5aeb0acc21",
   "metadata": {},
   "outputs": [],
   "source": [
    "### RMS (root mean square error)"
   ]
  },
  {
   "cell_type": "code",
   "execution_count": 9,
   "id": "83bf412a-9ac4-4c0d-b099-48eb6f9366aa",
   "metadata": {},
   "outputs": [
    {
     "data": {
      "text/plain": [
       "3.5355339059327373"
      ]
     },
     "execution_count": 9,
     "metadata": {},
     "output_type": "execute_result"
    }
   ],
   "source": [
    "np.linalg.norm(v)/np.sqrt(len(v))"
   ]
  },
  {
   "cell_type": "code",
   "execution_count": 11,
   "id": "243c2eca-d05d-4a10-8f9d-6283103f2e08",
   "metadata": {},
   "outputs": [
    {
     "data": {
      "text/plain": [
       "1.7888543819998317"
      ]
     },
     "execution_count": 11,
     "metadata": {},
     "output_type": "execute_result"
    }
   ],
   "source": [
    "np.linalg.norm(d)/np.sqrt(len(d))"
   ]
  },
  {
   "cell_type": "code",
   "execution_count": 12,
   "id": "d8074b92-3103-4dc6-916b-b538f9262170",
   "metadata": {},
   "outputs": [],
   "source": [
    "### dist(u-v) = ||u-v||  ||u|| is norm of u"
   ]
  },
  {
   "cell_type": "code",
   "execution_count": 34,
   "id": "ca9592f2-9301-4f65-90d3-5e589a70ad32",
   "metadata": {},
   "outputs": [],
   "source": [
    "u = np.array([0,3])"
   ]
  },
  {
   "cell_type": "code",
   "execution_count": 35,
   "id": "58165159-36af-41fe-88f1-d001a2b50459",
   "metadata": {},
   "outputs": [],
   "source": [
    "v = np.array([4,0])"
   ]
  },
  {
   "cell_type": "code",
   "execution_count": 36,
   "id": "ebc43d4a-3024-4abd-b413-1f887c55f896",
   "metadata": {},
   "outputs": [
    {
     "data": {
      "text/plain": [
       "5.0"
      ]
     },
     "execution_count": 36,
     "metadata": {},
     "output_type": "execute_result"
    }
   ],
   "source": [
    "np.linalg.norm(u-v)"
   ]
  },
  {
   "cell_type": "code",
   "execution_count": 37,
   "id": "8bce6ca2-8b57-4b7e-9374-334ed27f0cf7",
   "metadata": {},
   "outputs": [
    {
     "data": {
      "text/plain": [
       "5.0"
      ]
     },
     "execution_count": 37,
     "metadata": {},
     "output_type": "execute_result"
    }
   ],
   "source": [
    "np.linalg.norm(v-u)"
   ]
  },
  {
   "cell_type": "code",
   "execution_count": 38,
   "id": "2550144e-f3ae-45e9-9a5d-84a4f72b1fa5",
   "metadata": {},
   "outputs": [],
   "source": [
    "import matplotlib.pyplot as plt"
   ]
  },
  {
   "cell_type": "code",
   "execution_count": 39,
   "id": "bb3202ee-67aa-4784-bbd4-3a9e3ea06a03",
   "metadata": {},
   "outputs": [
    {
     "data": {
      "text/plain": [
       "<Figure size 600x600 with 0 Axes>"
      ]
     },
     "execution_count": 39,
     "metadata": {},
     "output_type": "execute_result"
    },
    {
     "data": {
      "text/plain": [
       "<Figure size 600x600 with 0 Axes>"
      ]
     },
     "metadata": {},
     "output_type": "display_data"
    }
   ],
   "source": [
    "plt.figure(figsize=(6,6))"
   ]
  },
  {
   "cell_type": "code",
   "execution_count": 40,
   "id": "ecbe7280-8dbf-43da-ab72-7c7507dc9d52",
   "metadata": {},
   "outputs": [
    {
     "data": {
      "image/png": "[encoded data removed]",
      "text/plain": [
       "<Figure size 640x480 with 1 Axes>"
      ]
     },
     "metadata": {},
     "output_type": "display_data"
    }
   ],
   "source": [
    "plt.title(\"Plot of numpy array\")\n",
    "plt.xlabel('index')\n",
    "plt.ylabel('value')\n",
    "plt.xlim(0,6)\n",
    "plt.ylim(0,6)\n",
    "plt.grid(True)\n",
    "plt.plot(u,'ro-')  # ro- is red color\n",
    "plt.plot(v,'go-')  # go- is red color\n",
    "plt.show()"
   ]
  },
  {
   "cell_type": "code",
   "execution_count": null,
   "id": "43fa5602-7df5-4042-9e20-22398fea581e",
   "metadata": {},
   "outputs": [],
   "source": []
  },
  {
   "cell_type": "markdown",
   "id": "db40ae62-f211-4d14-a24b-69f6783316b9",
   "metadata": {},
   "source": [
    "### another example"
   ]
  },
  {
   "cell_type": "code",
   "execution_count": 51,
   "id": "a6dd2a08-a6ce-4740-9e33-e1a1bb3cc7c5",
   "metadata": {},
   "outputs": [],
   "source": [
    "vector1 = np.array([4-1, 2-1])\n",
    "vector2 = np.array([2-1, 4-1])\n",
    "l2_norm_vector1 = np.linalg.norm(vector1)\n",
    "l2_norm_vector2 = np.linalg.norm(vector2)"
   ]
  },
  {
   "cell_type": "code",
   "execution_count": 53,
   "id": "31972099-9af4-4040-b26b-cfc8a6a47824",
   "metadata": {},
   "outputs": [
    {
     "data": {
      "image/png": "[encoded data removed]",
      "text/plain": [
       "<Figure size 800x800 with 1 Axes>"
      ]
     },
     "metadata": {},
     "output_type": "display_data"
    }
   ],
   "source": [
    "# Visualization\n",
    "plt.figure(figsize=(8, 8))\n",
    "plt.title(\"Vector Visualization\")\n",
    "\n",
    "# Plot the origin point\n",
    "plt.scatter(1, 1, color='red', label='Origin')\n",
    "\n",
    "# Plot the vectors\n",
    "plt.quiver(1, 1, vector1[0], vector1[1], angles='xy', scale_units='xy', scale=1, \n",
    "           color='blue', label='Vector 1')\n",
    "plt.quiver(1, 1, vector2[0], vector2[1], angles='xy', scale_units='xy', scale=1, \n",
    "           color='green', label='Vector 2')\n",
    "\n",
    "# Annotate the end points\n",
    "plt.scatter([1+vector1[0], 1+vector2[0]], [1+vector1[1], 1+vector2[1]], \n",
    "            color=['blue', 'green'])\n",
    "\n",
    "plt.annotate(f'(4,2)\\nL2 Norm: {l2_norm_vector1:.2f}', \n",
    "             (1+vector1[0], 1+vector1[1]), \n",
    "             xytext=(10,10), textcoords='offset points')\n",
    "plt.annotate(f'(2,4)\\nL2 Norm: {l2_norm_vector2:.2f}', \n",
    "             (1+vector2[0], 1+vector2[1]), \n",
    "             xytext=(10,10), textcoords='offset points')\n",
    "\n",
    "plt.xlabel('X')\n",
    "plt.ylabel('Y')\n",
    "plt.grid(True)\n",
    "plt.axis('equal')\n",
    "plt.legend()\n",
    "plt.show()"
   ]
  },
  {
   "cell_type": "code",
   "execution_count": null,
   "id": "255037d3-bf2f-44db-83d1-524e801ff98e",
   "metadata": {},
   "outputs": [],
   "source": []
  }
 ],
 "metadata": {
  "kernelspec": {
   "display_name": "Python 3 (ipykernel)",
   "language": "python",
   "name": "python3"
  },
  "language_info": {
   "codemirror_mode": {
    "name": "ipython",
    "version": 3
   },
   "file_extension": ".py",
   "mimetype": "text/x-python",
   "name": "python",
   "nbconvert_exporter": "python",
   "pygments_lexer": "ipython3",
   "version": "3.12.7"
  }
 },
 "nbformat": 4,
 "nbformat_minor": 5
}
