{
 "cells": [
  {
   "cell_type": "code",
   "execution_count": 1,
   "id": "bdfb6b88-9dd9-4de4-ac24-4c95edbc4cee",
   "metadata": {},
   "outputs": [],
   "source": [
    "import numpy as np"
   ]
  },
  {
   "cell_type": "code",
   "execution_count": 2,
   "id": "d970b0d6-e80d-4a6a-8863-97125e43f86a",
   "metadata": {},
   "outputs": [],
   "source": [
    "x = np.array([-10,0,10])"
   ]
  },
  {
   "cell_type": "code",
   "execution_count": 3,
   "id": "b1c08f6c-c731-49bf-b8c9-ce5c1b294539",
   "metadata": {},
   "outputs": [],
   "source": [
    "p = np.array([0.1,0.4,0.5])"
   ]
  },
  {
   "cell_type": "code",
   "execution_count": 4,
   "id": "5d9ebe01-7573-4bc4-a2a5-8fc110364646",
   "metadata": {},
   "outputs": [
    {
     "data": {
      "text/plain": [
       "4.0"
      ]
     },
     "execution_count": 4,
     "metadata": {},
     "output_type": "execute_result"
    }
   ],
   "source": [
    "np.inner(x,p)"
   ]
  },
  {
   "cell_type": "code",
   "execution_count": 5,
   "id": "fa22d2ae-307f-42b9-87ed-2fce52240363",
   "metadata": {},
   "outputs": [
    {
     "data": {
      "text/plain": [
       "4.0"
      ]
     },
     "execution_count": 5,
     "metadata": {},
     "output_type": "execute_result"
    }
   ],
   "source": [
    "np.inner(p,x)"
   ]
  },
  {
   "cell_type": "code",
   "execution_count": 6,
   "id": "9ac3249f-6b03-423b-b94e-37d442aa6761",
   "metadata": {},
   "outputs": [],
   "source": [
    "# numpy does the transpose for you"
   ]
  },
  {
   "cell_type": "code",
   "execution_count": 7,
   "id": "07396a19-9bff-4855-8938-2aea5bd3da6a",
   "metadata": {},
   "outputs": [],
   "source": [
    "ones = np.array([1,1,1])"
   ]
  },
  {
   "cell_type": "code",
   "execution_count": 8,
   "id": "eca588c0-ebe0-4def-895b-611c1553d5ba",
   "metadata": {},
   "outputs": [
    {
     "data": {
      "text/plain": [
       "1.0"
      ]
     },
     "execution_count": 8,
     "metadata": {},
     "output_type": "execute_result"
    }
   ],
   "source": [
    "np.inner(ones,p)"
   ]
  },
  {
   "cell_type": "code",
   "execution_count": 9,
   "id": "0c01435e-bebd-4d8e-ac84-a94f27ef197d",
   "metadata": {},
   "outputs": [
    {
     "data": {
      "text/plain": [
       "1.0"
      ]
     },
     "execution_count": 9,
     "metadata": {},
     "output_type": "execute_result"
    }
   ],
   "source": [
    "np.inner(p, ones)"
   ]
  },
  {
   "cell_type": "code",
   "execution_count": 10,
   "id": "9b80fed7-a85f-4cab-ae3a-a418b6ce7983",
   "metadata": {},
   "outputs": [
    {
     "data": {
      "text/plain": [
       "(3,)"
      ]
     },
     "execution_count": 10,
     "metadata": {},
     "output_type": "execute_result"
    }
   ],
   "source": [
    "p.shape"
   ]
  },
  {
   "cell_type": "code",
   "execution_count": 11,
   "id": "a084292c-96b5-4f25-af59-5f3fcf1810a0",
   "metadata": {},
   "outputs": [
    {
     "data": {
      "text/plain": [
       "(3,)"
      ]
     },
     "execution_count": 11,
     "metadata": {},
     "output_type": "execute_result"
    }
   ],
   "source": [
    "ones.shape"
   ]
  },
  {
   "cell_type": "code",
   "execution_count": 13,
   "id": "3b292b5d-335a-470f-a1cf-beef6aa4fc34",
   "metadata": {},
   "outputs": [
    {
     "data": {
      "text/plain": [
       "200"
      ]
     },
     "execution_count": 13,
     "metadata": {},
     "output_type": "execute_result"
    }
   ],
   "source": [
    "np.inner(x,x)"
   ]
  },
  {
   "cell_type": "code",
   "execution_count": 14,
   "id": "36a3daad-a601-480e-8f86-e0e0833ee107",
   "metadata": {},
   "outputs": [
    {
     "data": {
      "text/plain": [
       "4.0"
      ]
     },
     "execution_count": 14,
     "metadata": {},
     "output_type": "execute_result"
    }
   ],
   "source": [
    "np.dot(x,p)"
   ]
  },
  {
   "cell_type": "code",
   "execution_count": 15,
   "id": "7f7a410e-5c19-4644-81e9-1d5cca3a3ed4",
   "metadata": {},
   "outputs": [
    {
     "data": {
      "text/plain": [
       "4.0"
      ]
     },
     "execution_count": 15,
     "metadata": {},
     "output_type": "execute_result"
    }
   ],
   "source": [
    "np.dot(p,x)"
   ]
  },
  {
   "cell_type": "code",
   "execution_count": 16,
   "id": "100f6c5f-5d9c-454a-9b0c-eac46c56885e",
   "metadata": {},
   "outputs": [
    {
     "data": {
      "text/plain": [
       "1.0"
      ]
     },
     "execution_count": 16,
     "metadata": {},
     "output_type": "execute_result"
    }
   ],
   "source": [
    "np.dot(ones,p)"
   ]
  },
  {
   "cell_type": "code",
   "execution_count": 17,
   "id": "5d8d1633-1e4f-4b9e-b630-8932f7cc6f44",
   "metadata": {},
   "outputs": [
    {
     "data": {
      "text/plain": [
       "1.0"
      ]
     },
     "execution_count": 17,
     "metadata": {},
     "output_type": "execute_result"
    }
   ],
   "source": [
    "np.dot(p,ones)"
   ]
  },
  {
   "cell_type": "code",
   "execution_count": null,
   "id": "de2d9354-5ae7-4387-8148-90375c7c494c",
   "metadata": {},
   "outputs": [],
   "source": []
  }
 ],
 "metadata": {
  "kernelspec": {
   "display_name": "Python 3 (ipykernel)",
   "language": "python",
   "name": "python3"
  },
  "language_info": {
   "codemirror_mode": {
    "name": "ipython",
    "version": 3
   },
   "file_extension": ".py",
   "mimetype": "text/x-python",
   "name": "python",
   "nbconvert_exporter": "python",
   "pygments_lexer": "ipython3",
   "version": "3.12.7"
  }
 },
 "nbformat": 4,
 "nbformat_minor": 5
}
