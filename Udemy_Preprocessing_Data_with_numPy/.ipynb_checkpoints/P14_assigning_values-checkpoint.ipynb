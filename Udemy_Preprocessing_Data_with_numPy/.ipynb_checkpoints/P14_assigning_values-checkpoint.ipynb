{
 "cells": [
  {
   "cell_type": "code",
   "execution_count": 1,
   "id": "0a64cb6d-c22e-4716-8e5f-0a80f10574ac",
   "metadata": {},
   "outputs": [],
   "source": [
    "import numpy as np"
   ]
  },
  {
   "cell_type": "code",
   "execution_count": 19,
   "id": "dd763a7b-d660-4cab-9d9f-177ef56565f8",
   "metadata": {},
   "outputs": [],
   "source": [
    "array_a = np.array([[1,2,3],[4,5,6]])"
   ]
  },
  {
   "cell_type": "code",
   "execution_count": 3,
   "id": "84d6bd3e-9678-4b15-b2fd-6e55bb84a18e",
   "metadata": {},
   "outputs": [
    {
     "data": {
      "text/plain": [
       "array([[1, 2, 3],\n",
       "       [4, 5, 6]])"
      ]
     },
     "execution_count": 3,
     "metadata": {},
     "output_type": "execute_result"
    }
   ],
   "source": [
    "array_a"
   ]
  },
  {
   "cell_type": "code",
   "execution_count": 5,
   "id": "40806949-e4a6-45ad-a764-188836ca8f5d",
   "metadata": {},
   "outputs": [
    {
     "data": {
      "text/plain": [
       "5"
      ]
     },
     "execution_count": 5,
     "metadata": {},
     "output_type": "execute_result"
    }
   ],
   "source": [
    "array_a[1,1]"
   ]
  },
  {
   "cell_type": "code",
   "execution_count": 6,
   "id": "39293a9f-7ab2-41d1-b98c-da53c72316f7",
   "metadata": {},
   "outputs": [],
   "source": [
    "array_a[1,1] = 55"
   ]
  },
  {
   "cell_type": "code",
   "execution_count": 7,
   "id": "c717529b-3fe3-4b32-a118-9178ad049127",
   "metadata": {},
   "outputs": [
    {
     "data": {
      "text/plain": [
       "array([[ 1,  2,  3],\n",
       "       [ 4, 55,  6]])"
      ]
     },
     "execution_count": 7,
     "metadata": {},
     "output_type": "execute_result"
    }
   ],
   "source": [
    "array_a"
   ]
  },
  {
   "cell_type": "markdown",
   "id": "ce89715f-2984-48ee-b2e7-ea7a918e44c5",
   "metadata": {},
   "source": [
    "#### change entire vector"
   ]
  },
  {
   "cell_type": "code",
   "execution_count": 20,
   "id": "57ad1a22-5428-40fb-bd94-b3b292692078",
   "metadata": {},
   "outputs": [],
   "source": [
    "array_a[0] = 9"
   ]
  },
  {
   "cell_type": "code",
   "execution_count": 21,
   "id": "fbce5e0c-085f-4c66-8d5e-7c81b541b2f8",
   "metadata": {},
   "outputs": [
    {
     "data": {
      "text/plain": [
       "array([[9, 9, 9],\n",
       "       [4, 5, 6]])"
      ]
     },
     "execution_count": 21,
     "metadata": {},
     "output_type": "execute_result"
    }
   ],
   "source": [
    "array_a"
   ]
  },
  {
   "cell_type": "code",
   "execution_count": 22,
   "id": "2fb1c81b-bf0f-41e4-a8d7-0417a80761c9",
   "metadata": {},
   "outputs": [],
   "source": [
    "array_a[:,2] = np.array([11,11])"
   ]
  },
  {
   "cell_type": "code",
   "execution_count": 23,
   "id": "3026af43-164b-4a6b-b8f3-5ae77fc0d958",
   "metadata": {},
   "outputs": [
    {
     "data": {
      "text/plain": [
       "array([[ 9,  9, 11],\n",
       "       [ 4,  5, 11]])"
      ]
     },
     "execution_count": 23,
     "metadata": {},
     "output_type": "execute_result"
    }
   ],
   "source": [
    "array_a"
   ]
  },
  {
   "cell_type": "code",
   "execution_count": null,
   "id": "79e3b8f3-e30e-4fc3-a061-68a53764bd7f",
   "metadata": {},
   "outputs": [],
   "source": []
  },
  {
   "cell_type": "code",
   "execution_count": 24,
   "id": "ce9ae32d-7d7b-47f6-a78b-c9199e639e11",
   "metadata": {},
   "outputs": [],
   "source": [
    "list_a  = [8,7,8]"
   ]
  },
  {
   "cell_type": "code",
   "execution_count": 25,
   "id": "4a714cca-162f-472e-b9b8-7f268b47f808",
   "metadata": {},
   "outputs": [
    {
     "data": {
      "text/plain": [
       "array([ 9,  9, 11])"
      ]
     },
     "execution_count": 25,
     "metadata": {},
     "output_type": "execute_result"
    }
   ],
   "source": [
    "array_a[0]"
   ]
  },
  {
   "cell_type": "code",
   "execution_count": 26,
   "id": "fa9f71b2-5dcf-4a1a-9a30-09047dbc411b",
   "metadata": {},
   "outputs": [],
   "source": [
    "array_a[0] = list_a"
   ]
  },
  {
   "cell_type": "code",
   "execution_count": 27,
   "id": "78f642e8-3442-47dd-99b9-0b9aacdfe5ff",
   "metadata": {},
   "outputs": [
    {
     "data": {
      "text/plain": [
       "array([[ 8,  7,  8],\n",
       "       [ 4,  5, 11]])"
      ]
     },
     "execution_count": 27,
     "metadata": {},
     "output_type": "execute_result"
    }
   ],
   "source": [
    "array_a"
   ]
  },
  {
   "cell_type": "code",
   "execution_count": 30,
   "id": "d8419c30-e7c4-4ad6-ae33-3ebf65ff343c",
   "metadata": {},
   "outputs": [
    {
     "data": {
      "text/plain": [
       "numpy.ndarray"
      ]
     },
     "execution_count": 30,
     "metadata": {},
     "output_type": "execute_result"
    }
   ],
   "source": [
    "# here the array_a took the values from list_a and made it ndarray\n",
    "type(array_a)"
   ]
  },
  {
   "cell_type": "code",
   "execution_count": null,
   "id": "bd8116ea-6f2c-4210-aeb9-ce6cedae7274",
   "metadata": {},
   "outputs": [],
   "source": []
  },
  {
   "cell_type": "code",
   "execution_count": 31,
   "id": "4f070821-91ac-469a-8aea-316b1860c844",
   "metadata": {},
   "outputs": [],
   "source": [
    "# assigning to all values in ndarray"
   ]
  },
  {
   "cell_type": "code",
   "execution_count": 32,
   "id": "31a702d8-a27f-4464-98e8-6bfd8db1c9e5",
   "metadata": {},
   "outputs": [],
   "source": [
    "array_a[:] = 0"
   ]
  },
  {
   "cell_type": "code",
   "execution_count": 33,
   "id": "039df6be-c76d-4e03-945f-f210f024f9e6",
   "metadata": {},
   "outputs": [
    {
     "data": {
      "text/plain": [
       "array([[0, 0, 0],\n",
       "       [0, 0, 0]])"
      ]
     },
     "execution_count": 33,
     "metadata": {},
     "output_type": "execute_result"
    }
   ],
   "source": [
    "array_a"
   ]
  },
  {
   "cell_type": "code",
   "execution_count": null,
   "id": "d86a0b86-5915-4776-932a-59495e801841",
   "metadata": {},
   "outputs": [],
   "source": []
  },
  {
   "cell_type": "code",
   "execution_count": null,
   "id": "84160c8e-5701-43f6-803b-fae4ffc0336e",
   "metadata": {},
   "outputs": [],
   "source": []
  },
  {
   "cell_type": "code",
   "execution_count": null,
   "id": "8b17e931-aa9f-4d8d-94a5-56161085f9d8",
   "metadata": {},
   "outputs": [],
   "source": []
  },
  {
   "cell_type": "code",
   "execution_count": null,
   "id": "75f99407-d601-49ce-b649-f50cbe10dceb",
   "metadata": {},
   "outputs": [],
   "source": []
  },
  {
   "cell_type": "code",
   "execution_count": null,
   "id": "e2f6d80e-fd32-4172-a50d-52a35fb4975f",
   "metadata": {},
   "outputs": [],
   "source": []
  },
  {
   "cell_type": "code",
   "execution_count": null,
   "id": "b07251f4-5425-478d-b8c6-904849801a3a",
   "metadata": {},
   "outputs": [],
   "source": []
  },
  {
   "cell_type": "code",
   "execution_count": null,
   "id": "643b4e27-f346-42e5-b198-8a79c35bf19d",
   "metadata": {},
   "outputs": [],
   "source": []
  }
 ],
 "metadata": {
  "kernelspec": {
   "display_name": "Python 3 (ipykernel)",
   "language": "python",
   "name": "python3"
  },
  "language_info": {
   "codemirror_mode": {
    "name": "ipython",
    "version": 3
   },
   "file_extension": ".py",
   "mimetype": "text/x-python",
   "name": "python",
   "nbconvert_exporter": "python",
   "pygments_lexer": "ipython3",
   "version": "3.12.7"
  }
 },
 "nbformat": 4,
 "nbformat_minor": 5
}
