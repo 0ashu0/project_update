{
 "cells": [
  {
   "cell_type": "code",
   "execution_count": 1,
   "id": "cf00f489-410c-4747-b480-4ae7c046a994",
   "metadata": {},
   "outputs": [],
   "source": [
    "import numpy as np"
   ]
  },
  {
   "cell_type": "code",
   "execution_count": 3,
   "id": "05ac5dd5-794f-4f8c-855e-f391f505074c",
   "metadata": {},
   "outputs": [],
   "source": [
    "array_a = np.array([[1,2,3],[4,5,6]])"
   ]
  },
  {
   "cell_type": "code",
   "execution_count": 4,
   "id": "92b0a01b-4977-4a2c-8663-ebaf4e7e800e",
   "metadata": {},
   "outputs": [
    {
     "data": {
      "text/plain": [
       "array([[1, 2, 3],\n",
       "       [4, 5, 6]])"
      ]
     },
     "execution_count": 4,
     "metadata": {},
     "output_type": "execute_result"
    }
   ],
   "source": [
    "array_a"
   ]
  },
  {
   "cell_type": "code",
   "execution_count": 5,
   "id": "d22df1ce-922f-496f-abd0-096b833ac966",
   "metadata": {},
   "outputs": [
    {
     "name": "stdout",
     "output_type": "stream",
     "text": [
      "[[1 2 3]\n",
      " [4 5 6]]\n"
     ]
    }
   ],
   "source": [
    "print(array_a)"
   ]
  },
  {
   "cell_type": "code",
   "execution_count": null,
   "id": "26e9d872-ed05-4e42-8759-c3c86a637fd2",
   "metadata": {},
   "outputs": [],
   "source": []
  },
  {
   "cell_type": "markdown",
   "id": "96e72247-d8b1-4920-b0e1-1d503b75158f",
   "metadata": {},
   "source": [
    "### selecting rows in array"
   ]
  },
  {
   "cell_type": "code",
   "execution_count": 9,
   "id": "3ada280c-e50c-4809-97d2-08abdffd9c72",
   "metadata": {},
   "outputs": [
    {
     "data": {
      "text/plain": [
       "array([1, 2, 3])"
      ]
     },
     "execution_count": 9,
     "metadata": {},
     "output_type": "execute_result"
    }
   ],
   "source": [
    "array_a[0]"
   ]
  },
  {
   "cell_type": "code",
   "execution_count": 29,
   "id": "a0f54b75-135d-4b76-9533-4151082b35cd",
   "metadata": {},
   "outputs": [
    {
     "data": {
      "text/plain": [
       "array([1, 2, 3])"
      ]
     },
     "execution_count": 29,
     "metadata": {},
     "output_type": "execute_result"
    }
   ],
   "source": [
    "# alternatively\n",
    "array_a[0,:]"
   ]
  },
  {
   "cell_type": "code",
   "execution_count": 10,
   "id": "e23c734f-5f94-45d4-b275-99fc664e0452",
   "metadata": {},
   "outputs": [
    {
     "data": {
      "text/plain": [
       "array([4, 5, 6])"
      ]
     },
     "execution_count": 10,
     "metadata": {},
     "output_type": "execute_result"
    }
   ],
   "source": [
    "array_a[1]"
   ]
  },
  {
   "cell_type": "code",
   "execution_count": null,
   "id": "91df572c-deeb-410d-ae59-4f4a4ec41975",
   "metadata": {},
   "outputs": [],
   "source": []
  },
  {
   "cell_type": "markdown",
   "id": "ec5ac69c-0d3f-494a-97fe-1aac269cd4e2",
   "metadata": {},
   "source": [
    "### selecting columns in array"
   ]
  },
  {
   "cell_type": "code",
   "execution_count": 28,
   "id": "80ac765d-03f5-4d51-a047-69d120c3dac5",
   "metadata": {},
   "outputs": [
    {
     "data": {
      "text/plain": [
       "array([1, 4])"
      ]
     },
     "execution_count": 28,
     "metadata": {},
     "output_type": "execute_result"
    }
   ],
   "source": [
    "# The : serves as a wildcard meaning \"all\" for that dimension\n",
    "array_a[:, 0]"
   ]
  },
  {
   "cell_type": "code",
   "execution_count": 24,
   "id": "e3a32ade-ec32-4677-b752-234280a6ade0",
   "metadata": {},
   "outputs": [
    {
     "data": {
      "text/plain": [
       "array([2, 5])"
      ]
     },
     "execution_count": 24,
     "metadata": {},
     "output_type": "execute_result"
    }
   ],
   "source": [
    "array_a[:, 1]"
   ]
  },
  {
   "cell_type": "code",
   "execution_count": 25,
   "id": "5ddb4a31-8454-4c96-bda8-005a13e7f4e3",
   "metadata": {},
   "outputs": [
    {
     "data": {
      "text/plain": [
       "array([3, 6])"
      ]
     },
     "execution_count": 25,
     "metadata": {},
     "output_type": "execute_result"
    }
   ],
   "source": [
    "array_a[:, 2]"
   ]
  },
  {
   "cell_type": "code",
   "execution_count": null,
   "id": "59f22918-e4ee-478e-8452-d801d724660b",
   "metadata": {},
   "outputs": [],
   "source": []
  },
  {
   "cell_type": "markdown",
   "id": "f1509516-fa2a-4254-a1e8-835c0857ed0e",
   "metadata": {},
   "source": [
    "### selecting individual values in array"
   ]
  },
  {
   "cell_type": "code",
   "execution_count": 6,
   "id": "362396e7-7ff1-48c7-890d-48ce307f4c27",
   "metadata": {},
   "outputs": [
    {
     "data": {
      "text/plain": [
       "1"
      ]
     },
     "execution_count": 6,
     "metadata": {},
     "output_type": "execute_result"
    }
   ],
   "source": [
    "# this is more efficient than the one below array_a[0][0]\n",
    "array_a[0,0]"
   ]
  },
  {
   "cell_type": "code",
   "execution_count": 17,
   "id": "23de2370-64dc-410d-bdec-66352a4996cf",
   "metadata": {},
   "outputs": [
    {
     "data": {
      "text/plain": [
       "1"
      ]
     },
     "execution_count": 17,
     "metadata": {},
     "output_type": "execute_result"
    }
   ],
   "source": [
    "array_a[0][0]"
   ]
  },
  {
   "cell_type": "code",
   "execution_count": 21,
   "id": "b2d37d92-b7c0-46bc-90f1-c8480ef486ce",
   "metadata": {},
   "outputs": [
    {
     "name": "stdout",
     "output_type": "stream",
     "text": [
      "Method 1 time: 0.14716208299978462\n",
      "Method 2 time: 0.06333020900001429\n"
     ]
    }
   ],
   "source": [
    "import timeit\n",
    "\n",
    "# Timing the two methods\n",
    "def method1():\n",
    "    return array_a[0][0]\n",
    "\n",
    "def method2():\n",
    "    return array_a[0,0]\n",
    "\n",
    "print(\"Method 1 time:\", timeit.timeit(method1, number=1000000))\n",
    "print(\"Method 2 time:\", timeit.timeit(method2, number=1000000))"
   ]
  },
  {
   "cell_type": "code",
   "execution_count": null,
   "id": "79b4ab9c-7423-438a-a1e4-2a230f7d53fa",
   "metadata": {},
   "outputs": [],
   "source": []
  },
  {
   "cell_type": "code",
   "execution_count": 7,
   "id": "564c8b68-09c7-412a-8eca-04c0aff5b8b1",
   "metadata": {},
   "outputs": [
    {
     "data": {
      "text/plain": [
       "2"
      ]
     },
     "execution_count": 7,
     "metadata": {},
     "output_type": "execute_result"
    }
   ],
   "source": [
    "array_a[0,1]"
   ]
  },
  {
   "cell_type": "code",
   "execution_count": 8,
   "id": "1dc9e304-aba2-4010-a331-566c19b76d9b",
   "metadata": {},
   "outputs": [
    {
     "data": {
      "text/plain": [
       "3"
      ]
     },
     "execution_count": 8,
     "metadata": {},
     "output_type": "execute_result"
    }
   ],
   "source": [
    "array_a[0,2]"
   ]
  },
  {
   "cell_type": "code",
   "execution_count": 14,
   "id": "ae7f1b86-085c-4c0b-9f9c-0ea9b7b24d60",
   "metadata": {},
   "outputs": [
    {
     "data": {
      "text/plain": [
       "4"
      ]
     },
     "execution_count": 14,
     "metadata": {},
     "output_type": "execute_result"
    }
   ],
   "source": [
    "array_a[1,0]"
   ]
  },
  {
   "cell_type": "code",
   "execution_count": 15,
   "id": "6917c663-789e-4b38-8eb7-146db57d29b5",
   "metadata": {},
   "outputs": [
    {
     "data": {
      "text/plain": [
       "5"
      ]
     },
     "execution_count": 15,
     "metadata": {},
     "output_type": "execute_result"
    }
   ],
   "source": [
    "array_a[1,1]"
   ]
  },
  {
   "cell_type": "code",
   "execution_count": 16,
   "id": "f3df394e-4089-4191-99da-dc58a86c0f6a",
   "metadata": {},
   "outputs": [
    {
     "data": {
      "text/plain": [
       "6"
      ]
     },
     "execution_count": 16,
     "metadata": {},
     "output_type": "execute_result"
    }
   ],
   "source": [
    "array_a[1,2]"
   ]
  },
  {
   "cell_type": "markdown",
   "id": "7434662b-8b1f-4fcc-bd41-426e76a07827",
   "metadata": {},
   "source": [
    "### Negative Indices"
   ]
  },
  {
   "cell_type": "code",
   "execution_count": 30,
   "id": "9cf2e9be-0c1c-49a8-9e55-2e56fabb7505",
   "metadata": {},
   "outputs": [],
   "source": [
    "#traversing array backwards"
   ]
  },
  {
   "cell_type": "code",
   "execution_count": 35,
   "id": "1b2de08b-4d37-423c-867f-f0ef1ff21f02",
   "metadata": {},
   "outputs": [],
   "source": [
    "array_b = np.array([1,2,3])"
   ]
  },
  {
   "cell_type": "code",
   "execution_count": 36,
   "id": "dec1e914-02bc-45e0-a53e-c8d5479b9952",
   "metadata": {},
   "outputs": [
    {
     "data": {
      "text/plain": [
       "3"
      ]
     },
     "execution_count": 36,
     "metadata": {},
     "output_type": "execute_result"
    }
   ],
   "source": [
    "array_b[-1]"
   ]
  },
  {
   "cell_type": "code",
   "execution_count": 34,
   "id": "8d5e4a9a-f5cf-42d2-8301-b8031043c3bf",
   "metadata": {},
   "outputs": [],
   "source": [
    "array_a = np.array([[1,2,3],[4,5,6]])"
   ]
  },
  {
   "cell_type": "markdown",
   "id": "47ab4259-c115-4e6e-9521-141f7262db77",
   "metadata": {},
   "source": [
    "#### getting rows"
   ]
  },
  {
   "cell_type": "code",
   "execution_count": 37,
   "id": "6f11abd7-3442-4280-a3f5-e9841bc0e93e",
   "metadata": {},
   "outputs": [
    {
     "data": {
      "text/plain": [
       "array([4, 5, 6])"
      ]
     },
     "execution_count": 37,
     "metadata": {},
     "output_type": "execute_result"
    }
   ],
   "source": [
    "array_a[-1]"
   ]
  },
  {
   "cell_type": "code",
   "execution_count": 38,
   "id": "ac0aa0ea-bed5-422c-9d59-6bae3796070b",
   "metadata": {},
   "outputs": [
    {
     "data": {
      "text/plain": [
       "array([1, 2, 3])"
      ]
     },
     "execution_count": 38,
     "metadata": {},
     "output_type": "execute_result"
    }
   ],
   "source": [
    "array_a[-2]"
   ]
  },
  {
   "cell_type": "markdown",
   "id": "c69ab3ed-dfa2-413b-8d76-eefee8e7b6c7",
   "metadata": {},
   "source": [
    "#### getting columns"
   ]
  },
  {
   "cell_type": "code",
   "execution_count": 51,
   "id": "6c2134f6-e3f0-4fdb-88d7-52d03fb6c71b",
   "metadata": {},
   "outputs": [
    {
     "data": {
      "text/plain": [
       "array([3, 6])"
      ]
     },
     "execution_count": 51,
     "metadata": {},
     "output_type": "execute_result"
    }
   ],
   "source": [
    "array_a[:,-1]"
   ]
  },
  {
   "cell_type": "code",
   "execution_count": 52,
   "id": "880c994b-b8df-4182-b457-ae8b9fb73006",
   "metadata": {},
   "outputs": [
    {
     "data": {
      "text/plain": [
       "array([2, 5])"
      ]
     },
     "execution_count": 52,
     "metadata": {},
     "output_type": "execute_result"
    }
   ],
   "source": [
    "array_a[:, -2]"
   ]
  },
  {
   "cell_type": "code",
   "execution_count": 53,
   "id": "aac8dd81-d323-4c96-a3be-040481526a14",
   "metadata": {},
   "outputs": [
    {
     "data": {
      "text/plain": [
       "array([1, 4])"
      ]
     },
     "execution_count": 53,
     "metadata": {},
     "output_type": "execute_result"
    }
   ],
   "source": [
    "array_a[:,-3]"
   ]
  },
  {
   "cell_type": "markdown",
   "id": "67e1ec8a-4940-4792-b730-e46b945f85f9",
   "metadata": {},
   "source": [
    "#### getting individual values"
   ]
  },
  {
   "cell_type": "code",
   "execution_count": 39,
   "id": "94e0b775-1c7c-42de-9145-38dc47db6f52",
   "metadata": {},
   "outputs": [
    {
     "data": {
      "text/plain": [
       "6"
      ]
     },
     "execution_count": 39,
     "metadata": {},
     "output_type": "execute_result"
    }
   ],
   "source": [
    "array_a[-1,-1]"
   ]
  },
  {
   "cell_type": "code",
   "execution_count": 42,
   "id": "3fbda8f7-d6c3-432a-912c-dc4a45bae274",
   "metadata": {},
   "outputs": [
    {
     "data": {
      "text/plain": [
       "5"
      ]
     },
     "execution_count": 42,
     "metadata": {},
     "output_type": "execute_result"
    }
   ],
   "source": [
    "array_a[-1,-2]"
   ]
  },
  {
   "cell_type": "code",
   "execution_count": 43,
   "id": "22be1391-8782-4403-8055-f2911abc785f",
   "metadata": {},
   "outputs": [
    {
     "data": {
      "text/plain": [
       "4"
      ]
     },
     "execution_count": 43,
     "metadata": {},
     "output_type": "execute_result"
    }
   ],
   "source": [
    "array_a[-1,-3]"
   ]
  },
  {
   "cell_type": "code",
   "execution_count": 44,
   "id": "91a3ff0e-5218-45a7-910e-68b6e3a6a372",
   "metadata": {},
   "outputs": [
    {
     "data": {
      "text/plain": [
       "3"
      ]
     },
     "execution_count": 44,
     "metadata": {},
     "output_type": "execute_result"
    }
   ],
   "source": [
    "array_a[-2,-1]"
   ]
  },
  {
   "cell_type": "code",
   "execution_count": 45,
   "id": "abce0608-9973-4c84-8bb6-2435a9c1302a",
   "metadata": {},
   "outputs": [
    {
     "data": {
      "text/plain": [
       "2"
      ]
     },
     "execution_count": 45,
     "metadata": {},
     "output_type": "execute_result"
    }
   ],
   "source": [
    "array_a[-2,-2]"
   ]
  },
  {
   "cell_type": "code",
   "execution_count": 47,
   "id": "14eda0f9-4e6c-4e2c-b107-7b4ae6ce84ff",
   "metadata": {},
   "outputs": [
    {
     "data": {
      "text/plain": [
       "1"
      ]
     },
     "execution_count": 47,
     "metadata": {},
     "output_type": "execute_result"
    }
   ],
   "source": [
    "array_a[-2,-3]"
   ]
  },
  {
   "cell_type": "code",
   "execution_count": null,
   "id": "65efa9f1-3eed-4f9b-ad5a-62acca32dd5d",
   "metadata": {},
   "outputs": [],
   "source": []
  },
  {
   "cell_type": "code",
   "execution_count": null,
   "id": "637704cf-034c-4f9a-ac65-e72b50621737",
   "metadata": {},
   "outputs": [],
   "source": []
  },
  {
   "cell_type": "code",
   "execution_count": null,
   "id": "29bdcd5b-41db-46ea-ae97-d996ed9fe9f5",
   "metadata": {},
   "outputs": [],
   "source": []
  },
  {
   "cell_type": "code",
   "execution_count": null,
   "id": "a3f23083-d38c-4b2e-8565-13b8b4d9fe0b",
   "metadata": {},
   "outputs": [],
   "source": []
  }
 ],
 "metadata": {
  "kernelspec": {
   "display_name": "Python 3 (ipykernel)",
   "language": "python",
   "name": "python3"
  },
  "language_info": {
   "codemirror_mode": {
    "name": "ipython",
    "version": 3
   },
   "file_extension": ".py",
   "mimetype": "text/x-python",
   "name": "python",
   "nbconvert_exporter": "python",
   "pygments_lexer": "ipython3",
   "version": "3.12.7"
  }
 },
 "nbformat": 4,
 "nbformat_minor": 5
}
